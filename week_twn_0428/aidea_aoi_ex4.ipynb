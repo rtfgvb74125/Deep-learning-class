{
  "nbformat": 4,
  "nbformat_minor": 0,
  "metadata": {
    "accelerator": "GPU",
    "colab": {
      "name": "aidea_aoi_ex4.ipynb",
      "provenance": [],
      "toc_visible": true
    },
    "kernelspec": {
      "display_name": "Python 3",
      "language": "python",
      "name": "python3"
    },
    "language_info": {
      "codemirror_mode": {
        "name": "ipython",
        "version": 3
      },
      "file_extension": ".py",
      "mimetype": "text/x-python",
      "name": "python",
      "nbconvert_exporter": "python",
      "pygments_lexer": "ipython3",
      "version": "3.7.6"
    }
  },
  "cells": [
    {
      "cell_type": "markdown",
      "metadata": {
        "id": "pzMudVrZev4E"
      },
      "source": [
        "<table width=\"100%\" border=\"3\">\n",
        "  <tbody>\n",
        "    <tr>\n",
        "      <td ><img src=\"https://aidea-web.tw/images/web/logo_white.png\" alt=\"Aidea\" width=\"400\"/></td>\n",
        "      <td align='left'><h1>Exercise 4: Ensemble Learning </h1></td>\n",
        "    </tr>\n",
        "  </tbody>\n",
        "</table>"
      ]
    },
    {
      "cell_type": "markdown",
      "metadata": {
        "id": "ZOuhb2IiDVpm"
      },
      "source": [
        "# AIdea AOI 實作課程, 2020\n",
        "* 這個教程使用工研院AIdea人工智慧共創平台的AOI資料集做為練習的標的。\n",
        "* 介紹撰寫深度學習的程式來進行自動光學檢查的瑕疵分類。\n",
        "* 此notebook程式可以在雲端使用Google Colab或使用個人電腦上的Jupyter執行。\n",
        "\n",
        "AIdea人工智慧共創平台\n",
        "https://aidea-web.tw/topic/a49e3f76-69c9-4a4a-bcfc-c882840b3f27\n",
        "\n",
        "亞洲大學 朱學亭老師  EMAIL: htchu.taiwan@gmail.com  FB: https://www.facebook.com/htchu.taiwan\n",
        "\n",
        "# Exercise 4: Ensemble method\n",
        "https://en.wikipedia.org/wiki/Ensemble_learning\n",
        "<img src=\"https://upload.wikimedia.org/wikipedia/commons/d/de/Stacking.png\">"
      ]
    },
    {
      "cell_type": "markdown",
      "metadata": {
        "id": "PsEK_x8teJlG"
      },
      "source": [
        "## Step 1: Load AIdea AOI dataset"
      ]
    },
    {
      "cell_type": "code",
      "metadata": {
        "id": "wxFk8zr9B1Xm",
        "colab": {
          "base_uri": "https://localhost:8080/",
          "height": 50
        },
        "outputId": "e37545ac-adca-4309-8e73-e551ae432999"
      },
      "source": [
        "#load AIdea AOI dataset\n",
        "from google_drive_downloader import GoogleDriveDownloader\n",
        "GoogleDriveDownloader.download_file_from_google_drive(file_id='1tovCO2gsjesjJ8OsfHgahyt-buY34dk0',dest_path='./content', unzip=True)"
      ],
      "execution_count": null,
      "outputs": [
        {
          "output_type": "stream",
          "text": [
            "Downloading 1Arcy_6pkMwLrg05A4f8S5dRzyu4I5j8Q into ./content... Done.\n",
            "Unzipping...Done.\n"
          ],
          "name": "stdout"
        }
      ]
    },
    {
      "cell_type": "markdown",
      "metadata": {
        "id": "phPu86CAeSND"
      },
      "source": [
        "## Step 2: Import python libraries"
      ]
    },
    {
      "cell_type": "code",
      "metadata": {
        "id": "OCJBD9x1Bv8n",
        "colab": {
          "base_uri": "https://localhost:8080/",
          "height": 50
        },
        "outputId": "3c36cf1e-159b-49c6-ab94-cd8cbbf2df7e"
      },
      "source": [
        "import tensorflow as tf\n",
        "print(tf.__version__)\n",
        "print(tf.config.list_physical_devices('GPU'))"
      ],
      "execution_count": null,
      "outputs": [
        {
          "output_type": "stream",
          "text": [
            "2.2.0\n",
            "[PhysicalDevice(name='/physical_device:GPU:0', device_type='GPU')]\n"
          ],
          "name": "stdout"
        }
      ]
    },
    {
      "cell_type": "code",
      "metadata": {
        "id": "Gl5ZMXU3S_rH"
      },
      "source": [
        "import numpy as np\n",
        "import matplotlib.pyplot as plt\n",
        "%matplotlib inline"
      ],
      "execution_count": null,
      "outputs": []
    },
    {
      "cell_type": "code",
      "metadata": {
        "id": "cLyRMQLrFUpY"
      },
      "source": [
        "from tensorflow.keras import Sequential\n",
        "from tensorflow.keras.models import Model\n",
        "from tensorflow.keras.layers import Dense, Activation, Flatten\n",
        "from tensorflow.keras.layers import Input, Concatenate\n",
        "from tensorflow.keras.layers import Dropout, Flatten, Activation\n",
        "from tensorflow.keras.layers import Conv2D, MaxPooling2D\n",
        "from tensorflow.keras.optimizers import Adam,SGD,Adagrad,Adadelta,RMSprop"
      ],
      "execution_count": null,
      "outputs": []
    },
    {
      "cell_type": "markdown",
      "metadata": {
        "id": "RITDZUvcdLRY"
      },
      "source": [
        "## Step 3: Load pretrained models:\n",
        "* m1: auaoi-InceptionResNetV2\n",
        "* m2: auaoi-InceptionV3\n",
        "* m3: auaoi-Xception"
      ]
    },
    {
      "cell_type": "code",
      "metadata": {
        "id": "ftC2GYFHcal_",
        "colab": {
          "base_uri": "https://localhost:8080/",
          "height": 50
        },
        "outputId": "2c908638-43e8-4bf4-bbe1-dc8e066d5b60"
      },
      "source": [
        "#load AIdea AOI trained CNN models\n",
        "from google_drive_downloader import GoogleDriveDownloader\n",
        "GoogleDriveDownloader.download_file_from_google_drive(file_id='1sh735v1fkLU3EC-xZCIq6mmvYkKyRUq9',dest_path='./model', unzip=True)"
      ],
      "execution_count": null,
      "outputs": [
        {
          "output_type": "stream",
          "text": [
            "Downloading 1sh735v1fkLU3EC-xZCIq6mmvYkKyRUq9 into ./model... Done.\n",
            "Unzipping...Done.\n"
          ],
          "name": "stdout"
        }
      ]
    },
    {
      "cell_type": "code",
      "metadata": {
        "id": "BGwtzDTmjb7H"
      },
      "source": [
        "model_files = ['m1.h5', 'm2.h5', 'm3.h5']\n",
        "models = []\n",
        "for file in model_files:\n",
        "  model = tf.keras.models.load_model(file)\n",
        "  models.append(model)\n"
      ],
      "execution_count": null,
      "outputs": []
    },
    {
      "cell_type": "code",
      "metadata": {
        "id": "B2s9IkCsKQEh",
        "colab": {
          "base_uri": "https://localhost:8080/",
          "height": 67
        },
        "outputId": "abde931f-aec1-493c-82b9-e7a52c9b7ea7"
      },
      "source": [
        "for model in models:\n",
        "  print(model.name)"
      ],
      "execution_count": null,
      "outputs": [
        {
          "output_type": "stream",
          "text": [
            "inception_resnet_v2\n",
            "inception_v3\n",
            "xception\n"
          ],
          "name": "stdout"
        }
      ]
    },
    {
      "cell_type": "markdown",
      "metadata": {
        "id": "o1URIFowfHED"
      },
      "source": [
        "## Step 4: read the training set"
      ]
    },
    {
      "cell_type": "code",
      "metadata": {
        "id": "pL3o453NU26h",
        "colab": {
          "base_uri": "https://localhost:8080/",
          "height": 34
        },
        "outputId": "9015fec4-5e9a-478c-8ea5-4ea7b77baae1"
      },
      "source": [
        "import pandas as pd\n",
        "df_train = pd.read_csv(\"train.csv\",dtype=str)\n",
        "print(df_train.shape)"
      ],
      "execution_count": null,
      "outputs": [
        {
          "output_type": "stream",
          "text": [
            "(2528, 2)\n"
          ],
          "name": "stdout"
        }
      ]
    },
    {
      "cell_type": "code",
      "metadata": {
        "id": "tuDemzs5VKFk",
        "colab": {
          "base_uri": "https://localhost:8080/",
          "height": 195
        },
        "outputId": "afa2aef8-c433-429d-d03c-521de840f70b"
      },
      "source": [
        "df_train.head()"
      ],
      "execution_count": null,
      "outputs": [
        {
          "output_type": "execute_result",
          "data": {
            "text/html": [
              "<div>\n",
              "<style scoped>\n",
              "    .dataframe tbody tr th:only-of-type {\n",
              "        vertical-align: middle;\n",
              "    }\n",
              "\n",
              "    .dataframe tbody tr th {\n",
              "        vertical-align: top;\n",
              "    }\n",
              "\n",
              "    .dataframe thead th {\n",
              "        text-align: right;\n",
              "    }\n",
              "</style>\n",
              "<table border=\"1\" class=\"dataframe\">\n",
              "  <thead>\n",
              "    <tr style=\"text-align: right;\">\n",
              "      <th></th>\n",
              "      <th>ID</th>\n",
              "      <th>Label</th>\n",
              "    </tr>\n",
              "  </thead>\n",
              "  <tbody>\n",
              "    <tr>\n",
              "      <th>0</th>\n",
              "      <td>train_00000.png</td>\n",
              "      <td>0</td>\n",
              "    </tr>\n",
              "    <tr>\n",
              "      <th>1</th>\n",
              "      <td>train_00001.png</td>\n",
              "      <td>1</td>\n",
              "    </tr>\n",
              "    <tr>\n",
              "      <th>2</th>\n",
              "      <td>train_00002.png</td>\n",
              "      <td>1</td>\n",
              "    </tr>\n",
              "    <tr>\n",
              "      <th>3</th>\n",
              "      <td>train_00003.png</td>\n",
              "      <td>5</td>\n",
              "    </tr>\n",
              "    <tr>\n",
              "      <th>4</th>\n",
              "      <td>train_00004.png</td>\n",
              "      <td>5</td>\n",
              "    </tr>\n",
              "  </tbody>\n",
              "</table>\n",
              "</div>"
            ],
            "text/plain": [
              "                ID Label\n",
              "0  train_00000.png     0\n",
              "1  train_00001.png     1\n",
              "2  train_00002.png     1\n",
              "3  train_00003.png     5\n",
              "4  train_00004.png     5"
            ]
          },
          "metadata": {
            "tags": []
          },
          "execution_count": 12
        }
      ]
    },
    {
      "cell_type": "code",
      "metadata": {
        "id": "-cVo6Gq4FApt",
        "colab": {
          "base_uri": "https://localhost:8080/",
          "height": 50
        },
        "outputId": "8036de3f-94d9-40cb-e75b-39fcab622d84"
      },
      "source": [
        "train_num = df_train.shape[0]\n",
        "train_files = df_train.iloc[:train_num,0].values\n",
        "train_labels = df_train.iloc[:train_num,1].values\n",
        "print(train_labels[:20])"
      ],
      "execution_count": null,
      "outputs": [
        {
          "output_type": "stream",
          "text": [
            "['0' '1' '1' '5' '5' '5' '3' '0' '3' '5' '3' '5' '3' '3' '1' '1' '1' '1'\n",
            " '5' '1']\n"
          ],
          "name": "stdout"
        }
      ]
    },
    {
      "cell_type": "code",
      "metadata": {
        "id": "TtQV07_cFK7Y"
      },
      "source": [
        "import seaborn as sns\n",
        "g = sns.countplot(train_labels)"
      ],
      "execution_count": null,
      "outputs": []
    },
    {
      "cell_type": "code",
      "metadata": {
        "id": "8YKcKTBabLig"
      },
      "source": [
        "num_classes=6"
      ],
      "execution_count": null,
      "outputs": []
    },
    {
      "cell_type": "markdown",
      "metadata": {
        "id": "8LKk8bDUoo33"
      },
      "source": [
        "## Step 5: Set up an ImageDataGenerator and a Train_generator"
      ]
    },
    {
      "cell_type": "code",
      "metadata": {
        "id": "qkc9nt2dx6v6"
      },
      "source": [
        ""
      ],
      "execution_count": null,
      "outputs": []
    },
    {
      "cell_type": "code",
      "metadata": {
        "id": "2FglrsMfXMBC"
      },
      "source": [
        "from tensorflow.keras.preprocessing.image import ImageDataGenerator\n",
        "from tensorflow.keras.applications.xception import preprocess_input\n",
        "#from tensorflow.keras.applications.inception_v3 import preprocess_input\n",
        "img_gen = ImageDataGenerator(preprocessing_function=preprocess_input)"
      ],
      "execution_count": null,
      "outputs": []
    },
    {
      "cell_type": "code",
      "metadata": {
        "id": "gIAZ72MWSzmb",
        "colab": {
          "base_uri": "https://localhost:8080/",
          "height": 34
        },
        "outputId": "cdc4d561-c783-42f0-99c7-5511903d4cd5"
      },
      "source": [
        "train_generator = img_gen.flow_from_dataframe(dataframe=df_train,\n",
        "            directory=\"train_images\",\n",
        "            x_col=\"ID\",\n",
        "            y_col=\"Label\",\n",
        "            subset=None,\n",
        "            batch_size=8,\n",
        "            shuffle=False,\n",
        "            class_mode=\"categorical\",\n",
        "            color_mode=\"rgb\",\n",
        "            target_size=(299,299))\n",
        "print(train_generator.n)"
      ],
      "execution_count": null,
      "outputs": [
        {
          "output_type": "stream",
          "text": [
            "Found 2528 validated image filenames belonging to 6 classes.\n"
          ],
          "name": "stdout"
        }
      ]
    },
    {
      "cell_type": "code",
      "metadata": {
        "id": "CzqOQhERYbGs",
        "colab": {
          "base_uri": "https://localhost:8080/",
          "height": 34
        },
        "outputId": "01ab5515-2180-41dd-cffb-7a0b39b17035"
      },
      "source": [
        "train_generator.class_indices"
      ],
      "execution_count": null,
      "outputs": [
        {
          "output_type": "execute_result",
          "data": {
            "text/plain": [
              "{'0': 0, '1': 1, '2': 2, '3': 3, '4': 4, '5': 5}"
            ]
          },
          "metadata": {
            "tags": []
          },
          "execution_count": 17
        }
      ]
    },
    {
      "cell_type": "code",
      "metadata": {
        "id": "Fu7E0m3ucZCJ"
      },
      "source": [
        "if train_generator.n % train_generator.batch_size ==0:\n",
        "  step_size_train=train_generator.n//train_generator.batch_size\n",
        "else:\n",
        "  step_size_train=train_generator.n//train_generator.batch_size + 1\n",
        "print(step_size_train)"
      ],
      "execution_count": null,
      "outputs": []
    },
    {
      "cell_type": "markdown",
      "metadata": {
        "id": "muPnI0-1fPh-"
      },
      "source": [
        "## Step 6: Evaluation of pretrained models with the training set"
      ]
    },
    {
      "cell_type": "code",
      "metadata": {
        "id": "7INWr1yjaTrx",
        "colab": {
          "base_uri": "https://localhost:8080/",
          "height": 138
        },
        "outputId": "be9767c7-6cac-4110-8dab-d0b8bb88c6d5"
      },
      "source": [
        "##Evaluation of pretrained models\n",
        "for model in models:\n",
        "    train_generator.reset()\n",
        "    model.evaluate_generator(generator=train_generator, steps=step_size_train, verbose=1)"
      ],
      "execution_count": null,
      "outputs": [
        {
          "output_type": "stream",
          "text": [
            "WARNING:tensorflow:From <ipython-input-22-92dba17c3dc4>:4: Model.evaluate_generator (from tensorflow.python.keras.engine.training) is deprecated and will be removed in a future version.\n",
            "Instructions for updating:\n",
            "Please use Model.evaluate, which supports generators.\n",
            "316/316 [==============================] - 73s 232ms/step - loss: 0.0239 - accuracy: 0.9941\n",
            "316/316 [==============================] - 31s 98ms/step - loss: 0.0090 - accuracy: 0.9976\n",
            "316/316 [==============================] - 47s 148ms/step - loss: 0.0069 - accuracy: 0.9980\n"
          ],
          "name": "stdout"
        }
      ]
    },
    {
      "cell_type": "markdown",
      "metadata": {
        "id": "iqSU1dIJg56U"
      },
      "source": [
        "## Step 7: Prediction of pretrained models with the training set"
      ]
    },
    {
      "cell_type": "code",
      "metadata": {
        "id": "ssIe24ho6oGH",
        "colab": {
          "base_uri": "https://localhost:8080/",
          "height": 138
        },
        "outputId": "e4b4cd38-39af-44a6-94bc-51175bab424a"
      },
      "source": [
        "#y_predictions = model.predict(X_train, batch_size=20)\n",
        "y_predictions_All = []\n",
        "for model in models:\n",
        "    train_generator.reset()\n",
        "    y_predictions = model.predict_generator(generator=train_generator, steps=step_size_train, verbose=1)\n",
        "    y_predictions_All.append(y_predictions)"
      ],
      "execution_count": null,
      "outputs": [
        {
          "output_type": "stream",
          "text": [
            "WARNING:tensorflow:From <ipython-input-23-1f686040bea4>:5: Model.predict_generator (from tensorflow.python.keras.engine.training) is deprecated and will be removed in a future version.\n",
            "Instructions for updating:\n",
            "Please use Model.predict, which supports generators.\n",
            "316/316 [==============================] - 71s 224ms/step\n",
            "316/316 [==============================] - 30s 95ms/step\n",
            "316/316 [==============================] - 46s 145ms/step\n"
          ],
          "name": "stdout"
        }
      ]
    },
    {
      "cell_type": "markdown",
      "metadata": {
        "id": "3xReKVEVhH-a"
      },
      "source": [
        "## Step 8: Confusion matrices of pretrained models with the training set"
      ]
    },
    {
      "cell_type": "code",
      "metadata": {
        "id": "_7sYgbRbiB8w",
        "colab": {
          "base_uri": "https://localhost:8080/",
          "height": 34
        },
        "outputId": "764fddf6-3868-4843-e50d-293f1c049df7"
      },
      "source": [
        "labels = train_labels.astype(int)\n",
        "print(labels[:10])"
      ],
      "execution_count": null,
      "outputs": [
        {
          "output_type": "stream",
          "text": [
            "[0 1 1 5 5 5 3 0 3 5]\n"
          ],
          "name": "stdout"
        }
      ]
    },
    {
      "cell_type": "code",
      "metadata": {
        "id": "snwxn3uEidj8",
        "colab": {
          "base_uri": "https://localhost:8080/",
          "height": 319
        },
        "outputId": "edf6ec78-3c5f-455a-89ec-e4f719ed1d2d"
      },
      "source": [
        "from sklearn.metrics import confusion_matrix\n",
        "predicts_all = []\n",
        "for y_predictions in y_predictions_All:\n",
        "    predicts = np.argmax(y_predictions,axis=1)\n",
        "    predicts_all.append(predicts)\n",
        "    confusion=confusion_matrix(labels, predicts)\n",
        "    print(confusion)"
      ],
      "execution_count": null,
      "outputs": [
        {
          "output_type": "stream",
          "text": [
            "[[674   0   0   0   0   0]\n",
            " [  5 482   0   3   1   1]\n",
            " [  1   0  99   0   0   0]\n",
            " [  0   0   0 376   2   0]\n",
            " [  0   0   0   2 238   0]\n",
            " [  0   0   0   0   0 644]]\n",
            "[[674   0   0   0   0   0]\n",
            " [  1 490   0   0   1   0]\n",
            " [  0   0 100   0   0   0]\n",
            " [  0   0   0 377   1   0]\n",
            " [  0   0   0   1 239   0]\n",
            " [  0   2   0   0   0 642]]\n",
            "[[674   0   0   0   0   0]\n",
            " [  1 490   0   1   0   0]\n",
            " [  0   0 100   0   0   0]\n",
            " [  0   0   0 377   1   0]\n",
            " [  0   0   0   2 238   0]\n",
            " [  0   0   0   0   0 644]]\n"
          ],
          "name": "stdout"
        }
      ]
    },
    {
      "cell_type": "markdown",
      "metadata": {
        "id": "T7-t7AH_hT2U"
      },
      "source": [
        "## Step 9: Show differences of predictions between the models"
      ]
    },
    {
      "cell_type": "code",
      "metadata": {
        "id": "DVscM8Lyhxsn",
        "colab": {
          "base_uri": "https://localhost:8080/",
          "height": 386
        },
        "outputId": "bb21ff0c-f342-49ce-de86-968faf0d65ec"
      },
      "source": [
        "for i in range(len(labels)):\n",
        "    label=labels[i]\n",
        "    pred0=predicts_all[0][i]\n",
        "    pred1=predicts_all[1][i]\n",
        "    pred2=predicts_all[2][i]\n",
        "    if label!=pred0 or label!=pred1 or label!=pred2:\n",
        "        print(f'{label}->({pred0}, {pred1}, {pred2})')"
      ],
      "execution_count": null,
      "outputs": [
        {
          "output_type": "stream",
          "text": [
            "4->(4, 4, 3)\n",
            "1->(1, 0, 1)\n",
            "1->(0, 1, 0)\n",
            "4->(3, 3, 3)\n",
            "1->(5, 1, 1)\n",
            "5->(5, 1, 5)\n",
            "1->(0, 1, 1)\n",
            "3->(4, 3, 3)\n",
            "1->(0, 1, 1)\n",
            "3->(4, 3, 3)\n",
            "1->(3, 1, 3)\n",
            "1->(3, 1, 1)\n",
            "1->(3, 1, 1)\n",
            "4->(3, 4, 4)\n",
            "1->(0, 1, 1)\n",
            "1->(1, 4, 1)\n",
            "5->(5, 1, 5)\n",
            "3->(3, 4, 3)\n",
            "1->(0, 1, 1)\n",
            "1->(4, 1, 1)\n",
            "2->(0, 2, 2)\n",
            "3->(3, 3, 4)\n"
          ],
          "name": "stdout"
        }
      ]
    },
    {
      "cell_type": "markdown",
      "metadata": {
        "id": "rQ8d6eqziZKB"
      },
      "source": [
        "## Step 10: Ensemble predictions by indiviual models"
      ]
    },
    {
      "cell_type": "code",
      "metadata": {
        "id": "8XwwXxG1ii_1",
        "colab": {
          "base_uri": "https://localhost:8080/",
          "height": 101
        },
        "outputId": "71a49de8-89fa-4066-dbbd-81f1510bcc02"
      },
      "source": [
        "y_predictions_ensemble = y_predictions_All[0]+y_predictions_All[1]+y_predictions_All[2]\n",
        "print(y_predictions_ensemble[:2])\n",
        "type(y_predictions)"
      ],
      "execution_count": null,
      "outputs": [
        {
          "output_type": "stream",
          "text": [
            "[[2.9977081e+00 2.6643804e-05 2.0590229e-03 2.0168223e-04 4.4715466e-06\n",
            "  3.2687109e-09]\n",
            " [4.1103329e-11 2.9999866e+00 1.3372697e-05 3.4153191e-10 7.0617383e-09\n",
            "  1.2877229e-08]]\n"
          ],
          "name": "stdout"
        },
        {
          "output_type": "execute_result",
          "data": {
            "text/plain": [
              "numpy.ndarray"
            ]
          },
          "metadata": {
            "tags": []
          },
          "execution_count": 28
        }
      ]
    },
    {
      "cell_type": "code",
      "metadata": {
        "id": "-3LFfE8bPjOD",
        "colab": {
          "base_uri": "https://localhost:8080/",
          "height": 34
        },
        "outputId": "4b3f2f54-b448-4856-b937-f04fe6c29997"
      },
      "source": [
        "predicts_ensemble = np.argmax(y_predictions_ensemble,axis=1)\n",
        "print(predicts_ensemble[0:10])"
      ],
      "execution_count": null,
      "outputs": [
        {
          "output_type": "stream",
          "text": [
            "[0 1 1 5 5 5 3 0 3 5]\n"
          ],
          "name": "stdout"
        }
      ]
    },
    {
      "cell_type": "markdown",
      "metadata": {
        "id": "Pan8QU3eiyUt"
      },
      "source": [
        "## Step 11: Show differences of predictions by the ensembled models"
      ]
    },
    {
      "cell_type": "code",
      "metadata": {
        "id": "kBzaPHt8i-Zv",
        "colab": {
          "base_uri": "https://localhost:8080/",
          "height": 386
        },
        "outputId": "b93925ad-9d96-4668-df88-b3b8b2dd4b2b"
      },
      "source": [
        "for i in range(len(labels)):\n",
        "    label=labels[i]\n",
        "    pred0=predicts_all[0][i]\n",
        "    pred1=predicts_all[1][i]\n",
        "    pred2=predicts_all[2][i]\n",
        "    predx=predicts_ensemble[i]\n",
        "    if label!=pred0 or label!=pred1 or label!=pred2:\n",
        "        print(f'{label}->({pred0}, {pred1}, {pred2})=>{predx}')"
      ],
      "execution_count": null,
      "outputs": [
        {
          "output_type": "stream",
          "text": [
            "4->(4, 4, 3)=>4\n",
            "1->(1, 0, 1)=>1\n",
            "1->(0, 1, 0)=>0\n",
            "4->(3, 3, 3)=>3\n",
            "1->(5, 1, 1)=>1\n",
            "5->(5, 1, 5)=>5\n",
            "1->(0, 1, 1)=>1\n",
            "3->(4, 3, 3)=>3\n",
            "1->(0, 1, 1)=>1\n",
            "3->(4, 3, 3)=>3\n",
            "1->(3, 1, 3)=>3\n",
            "1->(3, 1, 1)=>1\n",
            "1->(3, 1, 1)=>1\n",
            "4->(3, 4, 4)=>4\n",
            "1->(0, 1, 1)=>1\n",
            "1->(1, 4, 1)=>1\n",
            "5->(5, 1, 5)=>5\n",
            "3->(3, 4, 3)=>3\n",
            "1->(0, 1, 1)=>1\n",
            "1->(4, 1, 1)=>1\n",
            "2->(0, 2, 2)=>2\n",
            "3->(3, 3, 4)=>3\n"
          ],
          "name": "stdout"
        }
      ]
    },
    {
      "cell_type": "code",
      "metadata": {
        "id": "K_QP8t7qI5Zt",
        "colab": {
          "base_uri": "https://localhost:8080/",
          "height": 118
        },
        "outputId": "8f56ad9c-f096-41e0-8055-ce4555985ae3"
      },
      "source": [
        "confusion=confusion_matrix(labels, predicts_ensemble)\n",
        "print(confusion)"
      ],
      "execution_count": null,
      "outputs": [
        {
          "output_type": "stream",
          "text": [
            "[[674   0   0   0   0   0]\n",
            " [  1 490   0   1   0   0]\n",
            " [  0   0 100   0   0   0]\n",
            " [  0   0   0 378   0   0]\n",
            " [  0   0   0   1 239   0]\n",
            " [  0   0   0   0   0 644]]\n"
          ],
          "name": "stdout"
        }
      ]
    },
    {
      "cell_type": "code",
      "metadata": {
        "id": "AEwJyegWXWKW",
        "colab": {
          "base_uri": "https://localhost:8080/",
          "height": 34
        },
        "outputId": "60ea4697-7d1a-4099-fd5f-2ed84fc02439"
      },
      "source": [
        "overkill= []\n",
        "underkill = []\n",
        "for i in range(train_num):\n",
        "  if labels[i] == 0 and predicts_ensemble[i] !=0:\n",
        "    overkill.append(i)\n",
        "  if labels[i] != 0 and predicts_ensemble[i] ==0:\n",
        "    underkill.append(i)\n",
        "print('# of overkill= {}; # of underkill= {} '.format(len(overkill), len(underkill)))"
      ],
      "execution_count": null,
      "outputs": [
        {
          "output_type": "stream",
          "text": [
            "# of overkill= 0; # of underkill= 1 \n"
          ],
          "name": "stdout"
        }
      ]
    },
    {
      "cell_type": "markdown",
      "metadata": {
        "id": "vnxpZ8VVjgFy"
      },
      "source": [
        "## Step 12: Preparing test images"
      ]
    },
    {
      "cell_type": "code",
      "metadata": {
        "id": "gH3N656tHvVF",
        "colab": {
          "base_uri": "https://localhost:8080/",
          "height": 34
        },
        "outputId": "cd739857-bf43-4766-a932-2d9f6e49ffe9"
      },
      "source": [
        "df_test = pd.read_csv(\"test.csv\",dtype=str)\n",
        "print(df_test.shape)"
      ],
      "execution_count": null,
      "outputs": [
        {
          "output_type": "stream",
          "text": [
            "(10142, 2)\n"
          ],
          "name": "stdout"
        }
      ]
    },
    {
      "cell_type": "code",
      "metadata": {
        "id": "hukndpFCnTBM"
      },
      "source": [
        "df_test.head()"
      ],
      "execution_count": null,
      "outputs": []
    },
    {
      "cell_type": "code",
      "metadata": {
        "id": "26sEKiQYH2sr",
        "colab": {
          "base_uri": "https://localhost:8080/",
          "height": 34
        },
        "outputId": "fafff69c-c54e-40b1-c2ba-f6436119ee8d"
      },
      "source": [
        "test_num = df_test.shape[0]\n",
        "test_files  = df_test.iloc[:test_num,0].values\n",
        "test_labels = df_test.iloc[:test_num,1].values\n",
        "print(test_labels[:10])"
      ],
      "execution_count": null,
      "outputs": [
        {
          "output_type": "stream",
          "text": [
            "[nan nan nan nan nan nan nan nan nan nan]\n"
          ],
          "name": "stdout"
        }
      ]
    },
    {
      "cell_type": "code",
      "metadata": {
        "id": "rjzR0cmDjPT-",
        "colab": {
          "base_uri": "https://localhost:8080/",
          "height": 34
        },
        "outputId": "d98f5c5b-c11d-4deb-d927-cb0021af977d"
      },
      "source": [
        "img_gen2 = ImageDataGenerator(horizontal_flip=False, vertical_flip=False, preprocessing_function=preprocess_input)\n",
        "test_generator = img_gen2.flow_from_dataframe(dataframe=df_test,\n",
        "            directory=\"test_images\",\n",
        "            x_col=\"ID\",\n",
        "            y_col=\"Label\",\n",
        "            batch_size=32,\n",
        "            shuffle=False,\n",
        "            class_mode=None,\n",
        "            target_size=(299,299))"
      ],
      "execution_count": null,
      "outputs": [
        {
          "output_type": "stream",
          "text": [
            "Found 10142 validated image filenames.\n"
          ],
          "name": "stdout"
        }
      ]
    },
    {
      "cell_type": "code",
      "metadata": {
        "id": "c3z-YfOEn0UF",
        "colab": {
          "base_uri": "https://localhost:8080/",
          "height": 34
        },
        "outputId": "58e8249d-a6c8-422b-8aa5-39fb2e674fa9"
      },
      "source": [
        "if test_generator.n % test_generator.batch_size ==0:\n",
        "  step_size_test=test_generator.n//test_generator.batch_size\n",
        "else:\n",
        "  step_size_test=test_generator.n//test_generator.batch_size + 1\n",
        "print(step_size_test)"
      ],
      "execution_count": null,
      "outputs": [
        {
          "output_type": "stream",
          "text": [
            "317\n"
          ],
          "name": "stdout"
        }
      ]
    },
    {
      "cell_type": "markdown",
      "metadata": {
        "id": "ZJ-0n9o430oW"
      },
      "source": [
        "## Step 13: Prediction of pretrained models with the testing set"
      ]
    },
    {
      "cell_type": "code",
      "metadata": {
        "id": "p8XdXxbRmRCM",
        "colab": {
          "base_uri": "https://localhost:8080/",
          "height": 67
        },
        "outputId": "21991705-813a-466a-88cc-8fd80cfd8548"
      },
      "source": [
        "#y_predictions = model.predict(X_train, batch_size=20)\n",
        "y_predictions_All = []\n",
        "for model in models:\n",
        "    test_generator.reset()\n",
        "    y_predictions = model.predict_generator(generator=test_generator, steps=step_size_test,verbose=1)\n",
        "    y_predictions_All.append(y_predictions)"
      ],
      "execution_count": null,
      "outputs": [
        {
          "output_type": "stream",
          "text": [
            "317/317 [==============================] - 221s 696ms/step\n",
            "317/317 [==============================] - 84s 265ms/step\n",
            "317/317 [==============================] - 168s 529ms/step\n"
          ],
          "name": "stdout"
        }
      ]
    },
    {
      "cell_type": "markdown",
      "metadata": {
        "id": "0zsQ-Bbv4U4j"
      },
      "source": [
        "## Step 14: Ensemble Predictions"
      ]
    },
    {
      "cell_type": "code",
      "metadata": {
        "id": "apnBe7x3mfTa",
        "colab": {
          "base_uri": "https://localhost:8080/",
          "height": 34
        },
        "outputId": "1adadb9e-4805-4cdc-82b3-3811cb7f520f"
      },
      "source": [
        "y_predictions_ensemble = y_predictions_All[0]+y_predictions_All[1]+y_predictions_All[2]\n",
        "y_predictions_ensemble.shape"
      ],
      "execution_count": null,
      "outputs": [
        {
          "output_type": "execute_result",
          "data": {
            "text/plain": [
              "(10142, 6)"
            ]
          },
          "metadata": {
            "tags": []
          },
          "execution_count": 41
        }
      ]
    },
    {
      "cell_type": "code",
      "metadata": {
        "id": "WrzLXes_mkNQ"
      },
      "source": [
        "predicts_ensemble=np.argmax(y_predictions_ensemble,axis=1)"
      ],
      "execution_count": null,
      "outputs": []
    },
    {
      "cell_type": "markdown",
      "metadata": {
        "id": "1jeb2NRT4YT7"
      },
      "source": [
        "## Step 15: Output the predictions"
      ]
    },
    {
      "cell_type": "code",
      "metadata": {
        "id": "0sXBA6kypHZd",
        "colab": {
          "base_uri": "https://localhost:8080/",
          "height": 34
        },
        "outputId": "c1ad615c-7b8a-492c-d10f-aec5dd34e517"
      },
      "source": [
        "df_out = pd.DataFrame(df_test)\n",
        "df_out.shape"
      ],
      "execution_count": null,
      "outputs": [
        {
          "output_type": "execute_result",
          "data": {
            "text/plain": [
              "(10142, 2)"
            ]
          },
          "metadata": {
            "tags": []
          },
          "execution_count": 43
        }
      ]
    },
    {
      "cell_type": "code",
      "metadata": {
        "id": "WryvjBT8mm6J"
      },
      "source": [
        "df_out['Label'] = predicts_ensemble\n",
        "df_out.to_csv(\"0627-ensemble.csv\", index=False)"
      ],
      "execution_count": null,
      "outputs": []
    }
  ]
}