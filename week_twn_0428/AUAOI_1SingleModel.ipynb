{
 "cells": [
  {
   "cell_type": "markdown",
   "metadata": {
    "id": "vpfvx3zSO-je"
   },
   "source": [
    "<table width=\"100%\" border=\"3\">\n",
    "  <tbody>\n",
    "    <tr>\n",
    "      <td ><img src=\"https://aidea-web.tw/images/web/logo_white.png\" alt=\"Aidea\" width=\"400\"/></td>\n",
    "      <td align='left'><h1>AOI pipeline: single model training </h1></td>\n",
    "    </tr>\n",
    "  </tbody>\n",
    "</table>"
   ]
  },
  {
   "cell_type": "markdown",
   "metadata": {
    "id": "ZOuhb2IiDVpm"
   },
   "source": [
    "AOI full pipeline\n",
    "* single CNN model\n",
    "* ImageDataGenerator\n",
    "* ModelCheckpoint\n",
    "* EarlyStopping\n",
    "* Submit results"
   ]
  },
  {
   "cell_type": "markdown",
   "metadata": {
    "id": "bXEzgNlpP_sv"
   },
   "source": [
    "## Step 1: Load the dataset from google drive\n",
    "\n",
    "https://drive.google.com/file/d/1Arcy_6pkMwLrg05A4f8S5dRzyu4I5j8Q/view?usp=sharing"
   ]
  },
  {
   "cell_type": "markdown",
   "metadata": {
    "colab": {
     "base_uri": "https://localhost:8080/"
    },
    "id": "7VE-8D4WP-zd",
    "outputId": "5a9fdcb9-34e3-4f83-aee1-c104b8dfa304"
   },
   "source": [
    "```\n",
    "from google_drive_downloader import GoogleDriveDownloader\n",
    "GoogleDriveDownloader.download_file_from_google_drive(file_id='1Arcy_6pkMwLrg05A4f8S5dRzyu4I5j8Q',dest_path='./content', unzip=True)\n",
    "```"
   ]
  },
  {
   "cell_type": "code",
   "execution_count": null,
   "metadata": {},
   "outputs": [],
   "source": []
  },
  {
   "cell_type": "markdown",
   "metadata": {
    "id": "kHlgUk9qQLRu"
   },
   "source": [
    "## Step 2: Import python libraries\n",
    "```\n",
    "import tensorflow as tf\n",
    "#tf.config.experimental.set_memory_growth(tf.config.list_physical_devices('GPU')[0], True)\n",
    "print(tf.__version__)\n",
    "print(tf.config.list_physical_devices('GPU'))\n",
    "```"
   ]
  },
  {
   "cell_type": "code",
   "execution_count": null,
   "metadata": {
    "colab": {
     "base_uri": "https://localhost:8080/"
    },
    "id": "cw53FTerMqxT",
    "outputId": "b13556f4-f0be-4838-cfcc-cf7e4e63c473"
   },
   "outputs": [],
   "source": []
  },
  {
   "cell_type": "markdown",
   "metadata": {
    "id": "zs623T7DOkbI"
   },
   "source": [
    "```\n",
    "```"
   ]
  },
  {
   "cell_type": "markdown",
   "metadata": {
    "id": "Gl5ZMXU3S_rH"
   },
   "source": [
    "```\n",
    "import numpy as np\n",
    "import matplotlib.pyplot as plt\n",
    "%matplotlib inline\n",
    "```"
   ]
  },
  {
   "cell_type": "code",
   "execution_count": null,
   "metadata": {},
   "outputs": [],
   "source": []
  },
  {
   "cell_type": "markdown",
   "metadata": {
    "id": "eoCSQY60OnRD"
   },
   "source": [
    "```\n",
    "```"
   ]
  },
  {
   "cell_type": "markdown",
   "metadata": {
    "id": "cLyRMQLrFUpY"
   },
   "source": [
    "```\n",
    "from tensorflow.keras import Sequential\n",
    "from tensorflow.keras import models\n",
    "from tensorflow.keras import layers\n",
    "from tensorflow.keras.models import Model\n",
    "from tensorflow.keras.layers import Dense, Activation, Flatten\n",
    "from tensorflow.keras.layers import Input\n",
    "from tensorflow.keras.layers import Dropout, Flatten, Activation,BatchNormalization\n",
    "from tensorflow.keras.layers import Conv2D, MaxPooling2D\n",
    "from tensorflow.keras.optimizers import Adam,SGD,Adagrad,Adadelta,RMSprop\n",
    "```"
   ]
  },
  {
   "cell_type": "code",
   "execution_count": null,
   "metadata": {},
   "outputs": [],
   "source": []
  },
  {
   "cell_type": "markdown",
   "metadata": {
    "id": "4TXVhSDQQXXO"
   },
   "source": [
    "## Step 3: read the training set"
   ]
  },
  {
   "cell_type": "markdown",
   "metadata": {
    "id": "d35ROooyOo_7"
   },
   "source": [
    "```\n",
    "```"
   ]
  },
  {
   "cell_type": "markdown",
   "metadata": {
    "colab": {
     "base_uri": "https://localhost:8080/"
    },
    "id": "pL3o453NU26h",
    "outputId": "87259951-3e97-49d5-dfd3-eff0a5d34ba7"
   },
   "source": [
    "```\n",
    "import pandas as pd\n",
    "df_train = pd.read_csv(\"train.csv\",dtype=str )\n",
    "print(df_train.shape)\n",
    "```"
   ]
  },
  {
   "cell_type": "code",
   "execution_count": null,
   "metadata": {},
   "outputs": [],
   "source": []
  },
  {
   "cell_type": "markdown",
   "metadata": {
    "colab": {
     "base_uri": "https://localhost:8080/",
     "height": 204
    },
    "id": "tuDemzs5VKFk",
    "outputId": "90b726c5-f6e3-4406-d731-db3d264bb8d2"
   },
   "source": [
    "```\n",
    "df_train.head()\n",
    "```"
   ]
  },
  {
   "cell_type": "code",
   "execution_count": null,
   "metadata": {},
   "outputs": [],
   "source": []
  },
  {
   "cell_type": "markdown",
   "metadata": {
    "colab": {
     "base_uri": "https://localhost:8080/"
    },
    "id": "-cVo6Gq4FApt",
    "outputId": "2c2b9209-7d87-41dd-fae9-6ecec53ab717"
   },
   "source": [
    "```\n",
    "train_files = df_train.iloc[:,0].values\n",
    "train_labels = df_train.iloc[:,1].values\n",
    "print(train_labels[:10])\n",
    "```"
   ]
  },
  {
   "cell_type": "code",
   "execution_count": null,
   "metadata": {},
   "outputs": [],
   "source": []
  },
  {
   "cell_type": "markdown",
   "metadata": {
    "id": "PbZydP89TWuN"
   },
   "source": [
    "## Step 4: Show statistics of training images "
   ]
  },
  {
   "cell_type": "markdown",
   "metadata": {
    "colab": {
     "base_uri": "https://localhost:8080/",
     "height": 321
    },
    "id": "TtQV07_cFK7Y",
    "outputId": "38ef661c-a6a1-4a58-c8ea-1591a046ed4d"
   },
   "source": [
    "```\n",
    "import seaborn as sns\n",
    "g = sns.countplot(train_labels)\n",
    "```"
   ]
  },
  {
   "cell_type": "code",
   "execution_count": null,
   "metadata": {},
   "outputs": [],
   "source": []
  },
  {
   "cell_type": "markdown",
   "metadata": {
    "id": "8YKcKTBabLig"
   },
   "source": [
    "```\n",
    "num_classes=6\n",
    "```"
   ]
  },
  {
   "cell_type": "code",
   "execution_count": null,
   "metadata": {},
   "outputs": [],
   "source": []
  },
  {
   "cell_type": "markdown",
   "metadata": {
    "id": "9VfcJvPCTwjX"
   },
   "source": [
    "## Step 5: Choose one of CNN models \n",
    "* EfficientNetB0-EfficientNetB7\n",
    "* DenseNet121(...): Instantiates the Densenet121 architecture.\n",
    "* DenseNet169(...): Instantiates the Densenet169 architecture.\n",
    "* DenseNet201(...): Instantiates the Densenet201 architecture.\n",
    "* InceptionResNetV2(...): Instantiates the Inception-ResNet v2 architecture.\n",
    "* InceptionV3(...): Instantiates the Inception v3 architecture.\n",
    "* MobileNet(...): Instantiates the MobileNet architecture.\n",
    "* MobileNetV2(...): Instantiates the MobileNetV2 architecture.\n",
    "* NASNetLarge(...): Instantiates a NASNet model in ImageNet mode.\n",
    "* NASNetMobile(...): Instantiates a Mobile NASNet model in ImageNet mode.\n",
    "* ResNet101(...): Instantiates the ResNet101 architecture.\n",
    "* ResNet101V2(...): Instantiates the ResNet101V2 architecture.\n",
    "* ResNet152(...): Instantiates the ResNet152 architecture.\n",
    "* ResNet152V2(...): Instantiates the ResNet152V2 architecture.\n",
    "* ResNet50(...): Instantiates the ResNet50 architecture.\n",
    "* ResNet50V2(...): Instantiates the ResNet50V2 architecture.\n",
    "* VGG16(...): Instantiates the VGG16 model.\n",
    "* VGG19(...): Instantiates the VGG19 architecture.\n",
    "* Xception(...): Instantiates the Xception architecture.\n",
    "\n"
   ]
  },
  {
   "cell_type": "markdown",
   "metadata": {
    "id": "ndL1lGGwEsOM"
   },
   "source": [
    "```\n",
    "from tensorflow.keras.applications import EfficientNetB0\n",
    "model = EfficientNetB0(include_top = True, input_shape=(224,224,3), weights=None, classes=num_classes)\n",
    "```"
   ]
  },
  {
   "cell_type": "code",
   "execution_count": null,
   "metadata": {},
   "outputs": [],
   "source": []
  },
  {
   "cell_type": "markdown",
   "metadata": {
    "colab": {
     "base_uri": "https://localhost:8080/"
    },
    "id": "MARzRhyY49NB",
    "outputId": "df2a1f51-7eab-4ccd-d6df-6505d4c1ab38"
   },
   "source": [
    "```\n",
    "model.summary()\n",
    "```"
   ]
  },
  {
   "cell_type": "code",
   "execution_count": null,
   "metadata": {},
   "outputs": [],
   "source": []
  },
  {
   "cell_type": "markdown",
   "metadata": {
    "id": "xQgZdcYwUVqG"
   },
   "source": [
    "## Step 6: Instancing an ImageDataGenerator"
   ]
  },
  {
   "cell_type": "markdown",
   "metadata": {
    "id": "2FglrsMfXMBC"
   },
   "source": [
    "```\n",
    "from tensorflow.keras.preprocessing.image import ImageDataGenerator\n",
    "from tensorflow.keras.applications.efficientnet import preprocess_input\n",
    "img_gen = ImageDataGenerator(preprocessing_function=preprocess_input)\n",
    "```"
   ]
  },
  {
   "cell_type": "code",
   "execution_count": null,
   "metadata": {},
   "outputs": [],
   "source": []
  },
  {
   "cell_type": "markdown",
   "metadata": {
    "id": "s5oRwE1UUiFf"
   },
   "source": [
    "## Step 7: Set up a train_generator with flow_from_dataframe"
   ]
  },
  {
   "cell_type": "markdown",
   "metadata": {
    "colab": {
     "base_uri": "https://localhost:8080/"
    },
    "id": "gIAZ72MWSzmb",
    "outputId": "cb5bcc17-b72c-4cd1-9343-bf44e004ca49"
   },
   "source": [
    "```\n",
    "train_generator = img_gen.flow_from_dataframe(dataframe=df_train,\n",
    "            directory=\"train_images\",\n",
    "            x_col=\"ID\",\n",
    "            y_col=\"Label\",\n",
    "            subset=None,\n",
    "            batch_size=8,\n",
    "            shuffle=False,\n",
    "            class_mode=\"categorical\",\n",
    "            color_mode=\"rgb\",\n",
    "            target_size=(224,224))\n",
    "```"
   ]
  },
  {
   "cell_type": "code",
   "execution_count": null,
   "metadata": {},
   "outputs": [],
   "source": []
  },
  {
   "cell_type": "markdown",
   "metadata": {
    "colab": {
     "base_uri": "https://localhost:8080/"
    },
    "id": "CzqOQhERYbGs",
    "outputId": "04f4a185-a24d-4c38-d25e-909753248b78"
   },
   "source": [
    "```\n",
    "train_generator.class_indices\n",
    "```"
   ]
  },
  {
   "cell_type": "code",
   "execution_count": null,
   "metadata": {},
   "outputs": [],
   "source": []
  },
  {
   "cell_type": "markdown",
   "metadata": {
    "id": "n3FgxCjpVG3H"
   },
   "source": [
    "## Step 8: step_size_train"
   ]
  },
  {
   "cell_type": "markdown",
   "metadata": {
    "colab": {
     "base_uri": "https://localhost:8080/"
    },
    "id": "Fu7E0m3ucZCJ",
    "outputId": "80943e1b-21b5-485c-8d59-77ab83413c89"
   },
   "source": [
    "```\n",
    "if train_generator.n % train_generator.batch_size ==0:\n",
    "  step_size_train=train_generator.n//train_generator.batch_size\n",
    "else:\n",
    "  step_size_train=train_generator.n//train_generator.batch_size + 1\n",
    "print(step_size_train)\n",
    "```"
   ]
  },
  {
   "cell_type": "code",
   "execution_count": null,
   "metadata": {},
   "outputs": [],
   "source": []
  },
  {
   "cell_type": "markdown",
   "metadata": {
    "id": "0cggn0VQVJUa"
   },
   "source": [
    "## Step 9: ModelCheckpoint"
   ]
  },
  {
   "cell_type": "markdown",
   "metadata": {
    "id": "VgdfV2r-K7Hj"
   },
   "source": [
    "```\n",
    "# Include the epoch in the file name (uses `str.format`)\n",
    "import os\n",
    "checkpoint_path = \"training_cp/cp-{epoch:03d}.ckpt\"\n",
    "checkpoint_dir = os.path.dirname(checkpoint_path)\n",
    "# Create a callback that saves the model's weights \n",
    "cp_callback = tf.keras.callbacks.ModelCheckpoint(filepath=checkpoint_path , save_weights_only=True)\n",
    "```"
   ]
  },
  {
   "cell_type": "code",
   "execution_count": null,
   "metadata": {},
   "outputs": [],
   "source": []
  },
  {
   "cell_type": "markdown",
   "metadata": {
    "id": "GUSuhwUzVPVH"
   },
   "source": [
    "## Step 10: EarlyStopping"
   ]
  },
  {
   "cell_type": "markdown",
   "metadata": {
    "id": "MeWdoKDPLEoG"
   },
   "source": [
    "```\n",
    "# Create a callback that stop the model \n",
    "es_callback = tf.keras.callbacks.EarlyStopping(monitor='loss', patience=5)\n",
    "```"
   ]
  },
  {
   "cell_type": "code",
   "execution_count": null,
   "metadata": {},
   "outputs": [],
   "source": []
  },
  {
   "cell_type": "markdown",
   "metadata": {
    "id": "_s2HkH4iVWJp"
   },
   "source": [
    "## Step 11: Compile model"
   ]
  },
  {
   "cell_type": "markdown",
   "metadata": {
    "id": "2ILyWZe8G1cX"
   },
   "source": [
    "```\n",
    "#compile model using accuracy to measure model performance\n",
    "from tensorflow.keras import optimizers\n",
    "model.compile(loss='categorical_crossentropy',\n",
    "            optimizer=optimizers.Adam(lr=3e-3),\n",
    "            metrics=['accuracy'])\n",
    "```"
   ]
  },
  {
   "cell_type": "code",
   "execution_count": null,
   "metadata": {},
   "outputs": [],
   "source": []
  },
  {
   "cell_type": "markdown",
   "metadata": {
    "id": "AjzOG579Vcxx"
   },
   "source": [
    "## Step 12: Train model"
   ]
  },
  {
   "cell_type": "markdown",
   "metadata": {
    "colab": {
     "base_uri": "https://localhost:8080/",
     "height": 325
    },
    "id": "31K9h5ePJ5-O",
    "outputId": "22a3bffa-f48d-4412-9741-6b57219bc731"
   },
   "source": [
    "```\n",
    "hist = model.fit(train_generator, steps_per_epoch=step_size_train, callbacks=[cp_callback, es_callback], epochs=100)\n",
    "```"
   ]
  },
  {
   "cell_type": "code",
   "execution_count": null,
   "metadata": {},
   "outputs": [],
   "source": []
  },
  {
   "cell_type": "markdown",
   "metadata": {
    "id": "XKKEeCDJVufY"
   },
   "source": [
    "## Step 13: Evaluate saved checkpoints"
   ]
  },
  {
   "cell_type": "markdown",
   "metadata": {},
   "source": [
    "```\n",
    "train_generator.reset()\n",
    "model.evaluate(train_generator, steps=step_size_train, verbose=1)\n",
    "```"
   ]
  },
  {
   "cell_type": "code",
   "execution_count": null,
   "metadata": {},
   "outputs": [],
   "source": []
  },
  {
   "cell_type": "markdown",
   "metadata": {
    "colab": {
     "base_uri": "https://localhost:8080/"
    },
    "id": "-hzIeF9RMBHg",
    "outputId": "c932eb91-5b14-4000-c120-5e59dd3626ce"
   },
   "source": [
    "```\n",
    "##checkpoint 1\n",
    "model.load_weights(\"training_cp/cp-020.ckpt\")\n",
    "train_generator.reset()\n",
    "model.evaluate(train_generator, steps=step_size_train, verbose=1)\n",
    "```"
   ]
  },
  {
   "cell_type": "code",
   "execution_count": null,
   "metadata": {},
   "outputs": [],
   "source": []
  },
  {
   "cell_type": "markdown",
   "metadata": {
    "colab": {
     "base_uri": "https://localhost:8080/"
    },
    "id": "13RQaTOPXz8Z",
    "outputId": "09e021d1-31bc-4945-f770-7ab67e7839bd"
   },
   "source": [
    "```\n",
    "##checkpoint 2\n",
    "model.load_weights(\"training_cp/cp-019.ckpt\")\n",
    "train_generator.reset()\n",
    "model.evaluate(train_generator, steps=step_size_train, verbose=1)\n",
    "```"
   ]
  },
  {
   "cell_type": "code",
   "execution_count": null,
   "metadata": {},
   "outputs": [],
   "source": []
  },
  {
   "cell_type": "markdown",
   "metadata": {
    "id": "rJ9oNZwlYCLk"
   },
   "source": [
    "## Step 14: Save the trained model"
   ]
  },
  {
   "cell_type": "markdown",
   "metadata": {
    "id": "0ZuxezvUMV0W"
   },
   "source": [
    "```\n",
    "model.load_weights(\"training_cp/cp-020.ckpt\")\n",
    "model.save(\"AOI-InceptionV3-0128.h5\")\n",
    "```"
   ]
  },
  {
   "cell_type": "code",
   "execution_count": null,
   "metadata": {},
   "outputs": [],
   "source": []
  },
  {
   "cell_type": "markdown",
   "metadata": {
    "id": "E4Kdl8aBYWpQ"
   },
   "source": [
    "## Step 15: Check training results"
   ]
  },
  {
   "cell_type": "markdown",
   "metadata": {
    "colab": {
     "base_uri": "https://localhost:8080/"
    },
    "id": "snwxn3uEidj8",
    "outputId": "0168a5a9-1915-4048-f01e-393e38fd4b51"
   },
   "source": [
    "```\n",
    "#y_predictions = model.predict(X_train, batch_size=20)\n",
    "train_generator.reset()\n",
    "y_predictions = model.predict(train_generator, steps=step_size_train, verbose=1)\n",
    "```"
   ]
  },
  {
   "cell_type": "code",
   "execution_count": null,
   "metadata": {},
   "outputs": [],
   "source": []
  },
  {
   "cell_type": "markdown",
   "metadata": {
    "colab": {
     "base_uri": "https://localhost:8080/"
    },
    "id": "-3LFfE8bPjOD",
    "outputId": "ed3099e1-9883-4b3c-a29d-335af827573c"
   },
   "source": [
    "```\n",
    "print(y_predictions[:2])\n",
    "type(y_predictions)\n",
    "```"
   ]
  },
  {
   "cell_type": "code",
   "execution_count": null,
   "metadata": {},
   "outputs": [],
   "source": []
  },
  {
   "cell_type": "markdown",
   "metadata": {
    "colab": {
     "base_uri": "https://localhost:8080/"
    },
    "id": "Apz1b0obPql5",
    "outputId": "cc7075b7-fbde-4d31-9508-f05e7b615603"
   },
   "source": [
    "```\n",
    "predicts = np.argmax(y_predictions,axis=1)\n",
    "print(predicts[0:10])\n",
    "```"
   ]
  },
  {
   "cell_type": "code",
   "execution_count": null,
   "metadata": {},
   "outputs": [],
   "source": []
  },
  {
   "cell_type": "markdown",
   "metadata": {
    "colab": {
     "base_uri": "https://localhost:8080/"
    },
    "id": "U8KJfM2AVNIg",
    "outputId": "755f4a88-c7e1-418f-9ea0-7cfba1a02b47"
   },
   "source": [
    "```\n",
    "labels = train_labels.astype(int)\n",
    "print(labels[:10])\n",
    "```"
   ]
  },
  {
   "cell_type": "code",
   "execution_count": null,
   "metadata": {},
   "outputs": [],
   "source": []
  },
  {
   "cell_type": "markdown",
   "metadata": {
    "id": "0K0X0oUSZMCl"
   },
   "source": [
    "## Step 16: Analyze training results\n"
   ]
  },
  {
   "cell_type": "markdown",
   "metadata": {
    "colab": {
     "base_uri": "https://localhost:8080/"
    },
    "id": "aZ3NL3iNVYFy",
    "outputId": "acd2eb84-8c6d-433d-a815-1b0798f0f136"
   },
   "source": [
    "```\n",
    "from sklearn.metrics import confusion_matrix\n",
    "confusion=confusion_matrix(labels, predicts)\n",
    "print(confusion)\n",
    "```"
   ]
  },
  {
   "cell_type": "code",
   "execution_count": null,
   "metadata": {},
   "outputs": [],
   "source": []
  },
  {
   "cell_type": "markdown",
   "metadata": {
    "colab": {
     "base_uri": "https://localhost:8080/"
    },
    "id": "AEwJyegWXWKW",
    "outputId": "7ff128e3-9ad7-47a6-e0a9-da1793ee8496"
   },
   "source": [
    "```\n",
    "train_num= 2528\n",
    "overkill= []\n",
    "underkill = []\n",
    "for i in range(train_num):\n",
    "  if labels[i] == 0 and predicts[i] !=0:\n",
    "    overkill.append(i)\n",
    "  if labels[i] != 0 and predicts[i] ==0:\n",
    "    underkill.append(i)\n",
    "print('# of overkill= {}; # of underkill= {} '.format(len(overkill), len(underkill)))\n",
    "```"
   ]
  },
  {
   "cell_type": "code",
   "execution_count": null,
   "metadata": {},
   "outputs": [],
   "source": []
  },
  {
   "cell_type": "markdown",
   "metadata": {
    "id": "oB5cwshcZdRo"
   },
   "source": [
    "## Step 17: Load the test set "
   ]
  },
  {
   "cell_type": "markdown",
   "metadata": {
    "colab": {
     "base_uri": "https://localhost:8080/"
    },
    "id": "gH3N656tHvVF",
    "outputId": "90e33e86-6c59-4f4a-c6e2-4816992a4ec3"
   },
   "source": [
    "```\n",
    "df_test = pd.read_csv(\"test.csv\",dtype=str)\n",
    "print(df_test.shape)\n",
    "```"
   ]
  },
  {
   "cell_type": "code",
   "execution_count": null,
   "metadata": {},
   "outputs": [],
   "source": []
  },
  {
   "cell_type": "markdown",
   "metadata": {
    "id": "hukndpFCnTBM"
   },
   "source": [
    "```\n",
    "df_test.head()\n",
    "```"
   ]
  },
  {
   "cell_type": "code",
   "execution_count": null,
   "metadata": {},
   "outputs": [],
   "source": []
  },
  {
   "cell_type": "markdown",
   "metadata": {
    "colab": {
     "base_uri": "https://localhost:8080/"
    },
    "id": "26sEKiQYH2sr",
    "outputId": "8f9dfaa8-099e-4519-84fa-36322d46dc6b"
   },
   "source": [
    "```\n",
    "test_files  = df_test.iloc[:,0].values\n",
    "test_labels = df_test.iloc[:,1].values\n",
    "print(test_labels[:10])\n",
    "```"
   ]
  },
  {
   "cell_type": "code",
   "execution_count": null,
   "metadata": {},
   "outputs": [],
   "source": []
  },
  {
   "cell_type": "markdown",
   "metadata": {
    "id": "_BLG-wtcZvze"
   },
   "source": [
    "## Step 18: Set up a test_generator with flow_from_dataframe"
   ]
  },
  {
   "cell_type": "markdown",
   "metadata": {
    "colab": {
     "base_uri": "https://localhost:8080/"
    },
    "id": "rjzR0cmDjPT-",
    "outputId": "adb2e4da-b2f6-4a0b-e2d0-3622ac5a5b8c"
   },
   "source": [
    "```\n",
    "test_generator = img_gen.flow_from_dataframe(dataframe=df_test,\n",
    "            directory=\"test_images\",\n",
    "            x_col=\"ID\",\n",
    "            y_col=\"Label\",\n",
    "            batch_size=32,\n",
    "            shuffle=False,\n",
    "            class_mode=None,\n",
    "            target_size=(224,224))\n",
    "```"
   ]
  },
  {
   "cell_type": "code",
   "execution_count": null,
   "metadata": {},
   "outputs": [],
   "source": []
  },
  {
   "cell_type": "markdown",
   "metadata": {
    "id": "WkKvBn2paAYi"
   },
   "source": [
    "## Step 19: step_size_test"
   ]
  },
  {
   "cell_type": "markdown",
   "metadata": {
    "colab": {
     "base_uri": "https://localhost:8080/"
    },
    "id": "c3z-YfOEn0UF",
    "outputId": "9ea2154f-91ce-4940-b992-723f753dd41b"
   },
   "source": [
    "```\n",
    "if test_generator.n % test_generator.batch_size ==0:\n",
    "  step_size_test=test_generator.n//test_generator.batch_size\n",
    "else:\n",
    "  step_size_test=test_generator.n//test_generator.batch_size + 1\n",
    "print(step_size_test)\n",
    "```"
   ]
  },
  {
   "cell_type": "code",
   "execution_count": null,
   "metadata": {},
   "outputs": [],
   "source": []
  },
  {
   "cell_type": "markdown",
   "metadata": {
    "id": "wzBR-D2-abER"
   },
   "source": [
    "## Step 20: Check test results"
   ]
  },
  {
   "cell_type": "markdown",
   "metadata": {
    "colab": {
     "base_uri": "https://localhost:8080/"
    },
    "id": "chRywd4OnsFK",
    "outputId": "685cd4ee-9dae-4cf0-ff88-6404954e4ba8"
   },
   "source": [
    "```\n",
    "#y_predictions = model.predict(X_train, batch_size=20)\n",
    "test_generator.reset()\n",
    "y_predictions2 = model.predict(test_generator, steps=step_size_test,verbose=1)\n",
    "```"
   ]
  },
  {
   "cell_type": "code",
   "execution_count": null,
   "metadata": {},
   "outputs": [],
   "source": []
  },
  {
   "cell_type": "markdown",
   "metadata": {
    "colab": {
     "base_uri": "https://localhost:8080/"
    },
    "id": "9UyO5HWMkRl4",
    "outputId": "afaf007b-9c80-4c05-9618-427bdf30c251"
   },
   "source": [
    "```\n",
    "import numpy as np\n",
    "predicts2=np.argmax(y_predictions2,axis=1)\n",
    "predicts2[:10]\n",
    "```"
   ]
  },
  {
   "cell_type": "code",
   "execution_count": null,
   "metadata": {},
   "outputs": [],
   "source": []
  },
  {
   "cell_type": "markdown",
   "metadata": {
    "colab": {
     "base_uri": "https://localhost:8080/"
    },
    "id": "Af7iNMQAlQZH",
    "outputId": "d6ced6f6-d009-45ff-e101-e1e18939cdc2"
   },
   "source": [
    "```\n",
    "len(predicts2)\n",
    "```"
   ]
  },
  {
   "cell_type": "code",
   "execution_count": null,
   "metadata": {},
   "outputs": [],
   "source": []
  },
  {
   "cell_type": "markdown",
   "metadata": {
    "id": "iqkymIOfaeg1"
   },
   "source": [
    "## Step 21: Output test results"
   ]
  },
  {
   "cell_type": "markdown",
   "metadata": {
    "colab": {
     "base_uri": "https://localhost:8080/"
    },
    "id": "0sXBA6kypHZd",
    "outputId": "1d477c15-e041-4cad-9f15-56bac3ae6b19"
   },
   "source": [
    "```\n",
    "df_out = pd.DataFrame(df_test)\n",
    "df_out.shape\n",
    "```"
   ]
  },
  {
   "cell_type": "code",
   "execution_count": null,
   "metadata": {},
   "outputs": [],
   "source": []
  },
  {
   "cell_type": "markdown",
   "metadata": {
    "id": "Z5sYBeoVIAKA"
   },
   "source": [
    "```\n",
    "df_out['Label'] = predicts2\n",
    "df_out.to_csv(\"0128-aoi.csv\", index=False)\n",
    "```"
   ]
  },
  {
   "cell_type": "code",
   "execution_count": null,
   "metadata": {},
   "outputs": [],
   "source": []
  }
 ],
 "metadata": {
  "accelerator": "GPU",
  "colab": {
   "collapsed_sections": [],
   "name": "AUAOI-SingleModel.ipynb",
   "provenance": []
  },
  "kernelspec": {
   "display_name": "Python 3",
   "language": "python",
   "name": "python3"
  },
  "language_info": {
   "codemirror_mode": {
    "name": "ipython",
    "version": 3
   },
   "file_extension": ".py",
   "mimetype": "text/x-python",
   "name": "python",
   "nbconvert_exporter": "python",
   "pygments_lexer": "ipython3",
   "version": "3.7.6"
  }
 },
 "nbformat": 4,
 "nbformat_minor": 1
}
