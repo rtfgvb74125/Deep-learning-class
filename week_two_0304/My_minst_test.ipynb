{
 "cells": [
  {
   "cell_type": "code",
   "execution_count": 1,
   "id": "stunning-configuration",
   "metadata": {},
   "outputs": [],
   "source": [
    "from tensorflow import keras\n",
    "import tensorflow as tf\n",
    "from tensorflow.keras.layers import Flatten, Dense\n",
    "import numpy as np"
   ]
  },
  {
   "cell_type": "markdown",
   "id": "comic-pacific",
   "metadata": {},
   "source": [
    "# 1.載入資料，使用tensorflow 內建 mnist資料集"
   ]
  },
  {
   "cell_type": "code",
   "execution_count": 2,
   "id": "spectacular-pipeline",
   "metadata": {},
   "outputs": [],
   "source": [
    "(train_images,train_labels),(test_images,test_labels) = keras.datasets.mnist.load_data()"
   ]
  },
  {
   "cell_type": "markdown",
   "id": "traditional-broadcasting",
   "metadata": {},
   "source": [
    "# 2.對圖片進行歸一化"
   ]
  },
  {
   "cell_type": "markdown",
   "id": "monthly-fever",
   "metadata": {},
   "source": [
    "圖片每個像素數值都介於[0,255]之間，所以要歸一化除以255，資料要是浮點數，所以要新增一個小數點。"
   ]
  },
  {
   "cell_type": "code",
   "execution_count": 3,
   "id": "missing-track",
   "metadata": {},
   "outputs": [],
   "source": [
    "train_images , test_images = train_images/255.0 , test_images / 255.0"
   ]
  },
  {
   "cell_type": "markdown",
   "id": "sufficient-overhead",
   "metadata": {},
   "source": [
    "# 3.定義模型 "
   ]
  },
  {
   "cell_type": "markdown",
   "id": "becoming-winner",
   "metadata": {},
   "source": [
    "搭建一個模型，第一層將圖片展平，原始圖片為28x28的灰階圖，所以輸入尺寸為input_shape(28,28)，第二層Dense可以選擇適合的值，這裡設定128，啟用函式activation='relu'，第三層有多少種類就寫多少，[0,9]一共10個數字，所以必須寫10，啟用函式用softmax。"
   ]
  },
  {
   "cell_type": "code",
   "execution_count": 4,
   "id": "connected-toyota",
   "metadata": {},
   "outputs": [],
   "source": [
    "model = keras.Sequential([\n",
    "    Flatten(input_shape=(28,28)),\n",
    "    Dense(128,activation='relu'),\n",
    "    Dense(10,activation='softmax')\n",
    "])"
   ]
  },
  {
   "cell_type": "markdown",
   "id": "valid-class",
   "metadata": {},
   "source": [
    "# 4.指定優化器，損失函式，評價指標"
   ]
  },
  {
   "cell_type": "markdown",
   "id": "hydraulic-outline",
   "metadata": {},
   "source": [
    "優化器 optimizer使用 adam，損失函式 loss 使用交叉熵損失函式，評價指標 metrics 使用準確率"
   ]
  },
  {
   "cell_type": "code",
   "execution_count": 5,
   "id": "affiliated-marina",
   "metadata": {},
   "outputs": [],
   "source": [
    "model.compile(optimizer = 'adam',\n",
    "             loss=tf.keras.losses.SparseCategoricalCrossentropy(),\n",
    "             metrics=['accuracy'])"
   ]
  },
  {
   "cell_type": "markdown",
   "id": "physical-injury",
   "metadata": {},
   "source": [
    "# 5.模型訓練"
   ]
  },
  {
   "cell_type": "code",
   "execution_count": 6,
   "id": "indoor-defendant",
   "metadata": {},
   "outputs": [
    {
     "name": "stdout",
     "output_type": "stream",
     "text": [
      "Epoch 1/10\n",
      "1875/1875 [==============================] - 1s 534us/step - loss: 0.2616 - accuracy: 0.9253\n",
      "Epoch 2/10\n",
      "1875/1875 [==============================] - 1s 523us/step - loss: 0.1160 - accuracy: 0.9655\n",
      "Epoch 3/10\n",
      "1875/1875 [==============================] - 1s 511us/step - loss: 0.0799 - accuracy: 0.9760\n",
      "Epoch 4/10\n",
      "1875/1875 [==============================] - 1s 518us/step - loss: 0.0596 - accuracy: 0.9817\n",
      "Epoch 5/10\n",
      "1875/1875 [==============================] - 1s 523us/step - loss: 0.0464 - accuracy: 0.9851\n",
      "Epoch 6/10\n",
      "1875/1875 [==============================] - 1s 522us/step - loss: 0.0363 - accuracy: 0.9892\n",
      "Epoch 7/10\n",
      "1875/1875 [==============================] - 1s 547us/step - loss: 0.0282 - accuracy: 0.9916\n",
      "Epoch 8/10\n",
      "1875/1875 [==============================] - 1s 522us/step - loss: 0.0239 - accuracy: 0.9925\n",
      "Epoch 9/10\n",
      "1875/1875 [==============================] - 1s 545us/step - loss: 0.0193 - accuracy: 0.9936\n",
      "Epoch 10/10\n",
      "1875/1875 [==============================] - 1s 533us/step - loss: 0.0155 - accuracy: 0.9952\n"
     ]
    },
    {
     "data": {
      "text/plain": [
       "<tensorflow.python.keras.callbacks.History at 0x205e13e8a90>"
      ]
     },
     "execution_count": 6,
     "metadata": {},
     "output_type": "execute_result"
    }
   ],
   "source": [
    "model.fit(train_images , train_labels , epochs=10)"
   ]
  },
  {
   "cell_type": "markdown",
   "id": "african-cattle",
   "metadata": {},
   "source": [
    "# 6.測試驗證結果"
   ]
  },
  {
   "cell_type": "markdown",
   "id": "protective-correction",
   "metadata": {},
   "source": [
    "用測試集驗證訓練好的模型，日誌等級設定為2"
   ]
  },
  {
   "cell_type": "code",
   "execution_count": 7,
   "id": "partial-latvia",
   "metadata": {},
   "outputs": [
    {
     "name": "stdout",
     "output_type": "stream",
     "text": [
      "313/313 - 0s - loss: 0.0835 - accuracy: 0.9773\n"
     ]
    }
   ],
   "source": [
    "test_loss, test_acc = model.evaluate(test_images , test_labels, verbose = 2)"
   ]
  },
  {
   "cell_type": "code",
   "execution_count": 8,
   "id": "absolute-convert",
   "metadata": {},
   "outputs": [
    {
     "name": "stdout",
     "output_type": "stream",
     "text": [
      "Test acc :  0.9772999882698059\n"
     ]
    }
   ],
   "source": [
    "print('Test acc : ',test_acc)"
   ]
  },
  {
   "cell_type": "markdown",
   "id": "professional-florence",
   "metadata": {},
   "source": [
    "# 7.將圖片輸入模型返回預測結果"
   ]
  },
  {
   "cell_type": "code",
   "execution_count": 9,
   "id": "colonial-going",
   "metadata": {},
   "outputs": [
    {
     "name": "stdout",
     "output_type": "stream",
     "text": [
      "預測值： 7\n"
     ]
    },
    {
     "ename": "NameError",
     "evalue": "name 'test_label' is not defined",
     "output_type": "error",
     "traceback": [
      "\u001b[1;31m---------------------------------------------------------------------------\u001b[0m",
      "\u001b[1;31mNameError\u001b[0m                                 Traceback (most recent call last)",
      "\u001b[1;32m<ipython-input-9-235daeccbb92>\u001b[0m in \u001b[0;36m<module>\u001b[1;34m\u001b[0m\n\u001b[0;32m      1\u001b[0m \u001b[0mpredictions\u001b[0m \u001b[1;33m=\u001b[0m \u001b[0mmodel\u001b[0m\u001b[1;33m.\u001b[0m\u001b[0mpredict\u001b[0m\u001b[1;33m(\u001b[0m\u001b[0mtest_images\u001b[0m\u001b[1;33m)\u001b[0m\u001b[1;33m\u001b[0m\u001b[1;33m\u001b[0m\u001b[0m\n\u001b[0;32m      2\u001b[0m \u001b[0mprint\u001b[0m\u001b[1;33m(\u001b[0m\u001b[1;34m'預測值：'\u001b[0m\u001b[1;33m,\u001b[0m\u001b[0mnp\u001b[0m\u001b[1;33m.\u001b[0m\u001b[0margmax\u001b[0m\u001b[1;33m(\u001b[0m\u001b[0mpredictions\u001b[0m\u001b[1;33m[\u001b[0m\u001b[1;36m0\u001b[0m\u001b[1;33m]\u001b[0m\u001b[1;33m)\u001b[0m\u001b[1;33m)\u001b[0m\u001b[1;33m\u001b[0m\u001b[1;33m\u001b[0m\u001b[0m\n\u001b[1;32m----> 3\u001b[1;33m \u001b[0mprint\u001b[0m\u001b[1;33m(\u001b[0m\u001b[1;34m'真實值：'\u001b[0m\u001b[1;33m,\u001b[0m\u001b[0mtest_label\u001b[0m\u001b[1;33m[\u001b[0m\u001b[1;36m0\u001b[0m\u001b[1;33m]\u001b[0m\u001b[1;33m)\u001b[0m\u001b[1;33m\u001b[0m\u001b[1;33m\u001b[0m\u001b[0m\n\u001b[0m",
      "\u001b[1;31mNameError\u001b[0m: name 'test_label' is not defined"
     ]
    }
   ],
   "source": [
    "predictions = model.predict(test_images)\n",
    "print('預測值：',np.argmax(predictions[0]))\n",
    "print('真實值：',test_label[0])"
   ]
  }
 ],
 "metadata": {
  "kernelspec": {
   "display_name": "Python 3",
   "language": "python",
   "name": "python3"
  },
  "language_info": {
   "codemirror_mode": {
    "name": "ipython",
    "version": 3
   },
   "file_extension": ".py",
   "mimetype": "text/x-python",
   "name": "python",
   "nbconvert_exporter": "python",
   "pygments_lexer": "ipython3",
   "version": "3.8.5"
  }
 },
 "nbformat": 4,
 "nbformat_minor": 5
}
